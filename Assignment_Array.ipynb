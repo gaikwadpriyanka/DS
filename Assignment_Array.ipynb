{
  "nbformat": 4,
  "nbformat_minor": 0,
  "metadata": {
    "colab": {
      "provenance": []
    },
    "kernelspec": {
      "name": "python3",
      "display_name": "Python 3"
    },
    "language_info": {
      "name": "python"
    }
  },
  "cells": [
    {
      "cell_type": "code",
      "execution_count": 1,
      "metadata": {
        "id": "WocOiL-dqOEI"
      },
      "outputs": [],
      "source": [
        "import numpy as np"
      ]
    },
    {
      "cell_type": "markdown",
      "source": [
        "**1. Create 4x4 array with all values  set to True**"
      ],
      "metadata": {
        "id": "tXD0-SrusgzW"
      }
    },
    {
      "cell_type": "code",
      "source": [
        "np.ones((4,4))"
      ],
      "metadata": {
        "colab": {
          "base_uri": "https://localhost:8080/"
        },
        "id": "AGrl7XSQsxH3",
        "outputId": "9a27cd9f-a1e7-4eca-bfe7-ab0ad03c0e68"
      },
      "execution_count": 2,
      "outputs": [
        {
          "output_type": "execute_result",
          "data": {
            "text/plain": [
              "array([[1., 1., 1., 1.],\n",
              "       [1., 1., 1., 1.],\n",
              "       [1., 1., 1., 1.],\n",
              "       [1., 1., 1., 1.]])"
            ]
          },
          "metadata": {},
          "execution_count": 2
        }
      ]
    },
    {
      "cell_type": "markdown",
      "source": [
        "**2. Create 4x4 array with all values set to False**"
      ],
      "metadata": {
        "id": "TQBwfg2CtBOD"
      }
    },
    {
      "cell_type": "code",
      "source": [
        "np.zeros((4,4))"
      ],
      "metadata": {
        "colab": {
          "base_uri": "https://localhost:8080/"
        },
        "id": "Q-_7WJrxtKax",
        "outputId": "cb4d9e23-aec0-4ff0-c64d-a394e6609daa"
      },
      "execution_count": 3,
      "outputs": [
        {
          "output_type": "execute_result",
          "data": {
            "text/plain": [
              "array([[0., 0., 0., 0.],\n",
              "       [0., 0., 0., 0.],\n",
              "       [0., 0., 0., 0.],\n",
              "       [0., 0., 0., 0.]])"
            ]
          },
          "metadata": {},
          "execution_count": 3
        }
      ]
    },
    {
      "cell_type": "markdown",
      "source": [
        "**3. Create 4x4 array with diagonal values set to True and non diagonal False**"
      ],
      "metadata": {
        "id": "VIyA6W6RtPEc"
      }
    },
    {
      "cell_type": "code",
      "source": [
        "np.identity(4)"
      ],
      "metadata": {
        "colab": {
          "base_uri": "https://localhost:8080/"
        },
        "id": "3RH4CrDote77",
        "outputId": "8ec84ba3-e070-40df-897f-08fc5aa57aa7"
      },
      "execution_count": 6,
      "outputs": [
        {
          "output_type": "execute_result",
          "data": {
            "text/plain": [
              "array([[1., 0., 0., 0.],\n",
              "       [0., 1., 0., 0.],\n",
              "       [0., 0., 1., 0.],\n",
              "       [0., 0., 0., 1.]])"
            ]
          },
          "metadata": {},
          "execution_count": 6
        }
      ]
    },
    {
      "cell_type": "markdown",
      "source": [
        "**4. Create 4x4 array with diagonal values set to False and non diagonal True**"
      ],
      "metadata": {
        "id": "IGwJo2UIus6K"
      }
    },
    {
      "cell_type": "code",
      "source": [
        "a = np.identity(4)"
      ],
      "metadata": {
        "id": "O_ptbQaVu9aq"
      },
      "execution_count": 17,
      "outputs": []
    },
    {
      "cell_type": "code",
      "source": [
        "b= np.ones((4,4))"
      ],
      "metadata": {
        "id": "HcTX4DstzUDz"
      },
      "execution_count": 19,
      "outputs": []
    },
    {
      "cell_type": "code",
      "source": [
        "matrix = b - a\n",
        "print(matrix)"
      ],
      "metadata": {
        "colab": {
          "base_uri": "https://localhost:8080/"
        },
        "id": "r9SzDv9KzcuA",
        "outputId": "4d614461-c248-4f39-86f2-c12a512bbe24"
      },
      "execution_count": 25,
      "outputs": [
        {
          "output_type": "stream",
          "name": "stdout",
          "text": [
            "[[0. 1. 1. 1.]\n",
            " [1. 0. 1. 1.]\n",
            " [1. 1. 0. 1.]\n",
            " [1. 1. 1. 0.]]\n"
          ]
        }
      ]
    }
  ]
}